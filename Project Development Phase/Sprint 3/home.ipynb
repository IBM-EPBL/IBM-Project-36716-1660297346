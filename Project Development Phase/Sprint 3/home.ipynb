{
  "nbformat": 4,
  "nbformat_minor": 0,
  "metadata": {
    "colab": {
      "provenance": []
    },
    "kernelspec": {
      "name": "python3",
      "display_name": "Python 3"
    },
    "language_info": {
      "name": "python"
    }
  },
  "cells": [
    {
      "cell_type": "code",
      "execution_count": null,
      "metadata": {
        "id": "9tglITKxhsS-"
      },
      "outputs": [],
      "source": [
        "<!DOCTYPE html>\n",
        "<html>\n",
        "<head>\n",
        "\t<meta charset=\"utf-8\">\n",
        "\t<meta name=\"viewport\" content=\"width=device-width, initial-scale=1\">\n",
        "\t<title>Personal portfolio website design</title>\n",
        "\t<!---custom css link--->\n",
        "\t<link rel=\"stylesheet\" type=\"text/css\" href=\"css/style.css\">\n",
        "\n",
        "\t<link rel=\"stylesheet\"\n",
        "  href=\"https://unpkg.com/boxicons@latest/css/boxicons.min.css\">\n",
        "\n",
        "  <link rel=\"preconnect\" href=\"https://fonts.googleapis.com\">\n",
        "  <link rel=\"preconnect\" href=\"https://fonts.gstatic.com\" crossorigin>\n",
        "  <link href=\"https://fonts.googleapis.com/css2?family=Quicksand:wght@300;400;500;600;700&display=swap\" rel=\"stylesheet\">\n",
        "\n",
        "</head>\n",
        "<body>\n",
        "\n",
        "\t<!---header--->\n",
        "\t<header>\n",
        "\t\t<a href=\"home.html\" style=\"color: rgb(3, 3, 3);\"><h2>Gesture</h2></a>\n",
        "\t\t<div class=\"bx bx-menu\" id=\"menu-icon\"></div>\n",
        "\n",
        "\t\t<ul class=\"navbar\">\n",
        "\t\t\t<li><a href=\"home.html\">Home</a></li>\n",
        "\t\t\t<li><a href=\"intro.html\">Introduction</a></li>\n",
        "\t\t\t<li><a href=\"index6.html\">Launch</a></li>\n",
        "\t\t</ul>\n",
        "\t</header>\n",
        "\t<!---home--->\n",
        "\t<section class=\"home\" id=\"home\">\n",
        "\t\t<div class=\"home-text\">\n",
        "\t\t\t<h1>A Gesture-based Tool for <span>Sterile Browsing </span></h1>\n",
        "\t\t\t<h1>of Radiology Images</h1>\n",
        "\t\t\t<a href=\"intro.html\" class=\"btn\">Explore</a>\n",
        "\t\t</div>\n",
        "\t</section>\n",
        "\n",
        "\t<div class=\"last-text\">\n",
        "\t\t<p>Developed by UCEN student © 2022</p>\n",
        "\t</div>\n",
        "\n",
        "\t<!---scroll-top--->\n",
        "\t<a href=\"#\" class=\"top\"><i class='bx bx-up-arrow-alt' ></i></a>\n",
        "\n",
        "\t<script src=\"https://unpkg.com/scrollreveal\"></script>\n",
        "\n",
        "\t<!---custom js link--->\n",
        "\t<script type=\"text/javascript\" src=\"js/script.js\"></script>\n",
        "\n",
        "</body>\n",
        "</html>"
      ]
    }
  ]
}